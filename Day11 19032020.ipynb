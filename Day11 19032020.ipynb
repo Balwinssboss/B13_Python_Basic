{
 "cells": [
  {
   "cell_type": "code",
   "execution_count": 1,
   "metadata": {},
   "outputs": [
    {
     "name": "stdout",
     "output_type": "stream",
     "text": [
      "7.0\n"
     ]
    }
   ],
   "source": [
    "#Exception Errort\n",
    "num1 = 7\n",
    "num2 = 1\n",
    "print(num1/num2)\n"
   ]
  },
  {
   "cell_type": "code",
   "execution_count": 2,
   "metadata": {},
   "outputs": [
    {
     "name": "stdout",
     "output_type": "stream",
     "text": [
      "7.0\n",
      "Done calculation\n"
     ]
    }
   ],
   "source": [
    "try:   #if no error in try, except wont run.\n",
    "    num1 = 7\n",
    "    num2 = 1\n",
    "    print (num1 / num2)\n",
    "    print(\"Done calculation\")\n",
    "except ZeroDivisionError:\n",
    "    print(\"An error occurred\")\n",
    "    print(\"due to zero division\")"
   ]
  },
  {
   "cell_type": "code",
   "execution_count": 3,
   "metadata": {},
   "outputs": [
    {
     "name": "stdout",
     "output_type": "stream",
     "text": [
      "An error occurred due to zero division\n"
     ]
    }
   ],
   "source": [
    "try: #if try got error, except will run.\n",
    "    num1 = 7\n",
    "    num2 = 0\n",
    "    print (num1 / num2)\n",
    "    print(\"Done calculation\")\n",
    "except ZeroDivisionError:\n",
    "    print(\"An error occurred due to zero division\")"
   ]
  },
  {
   "cell_type": "code",
   "execution_count": 4,
   "metadata": {},
   "outputs": [
    {
     "name": "stdout",
     "output_type": "stream",
     "text": [
      "5.0\n",
      "Finished\n"
     ]
    }
   ],
   "source": [
    "#What is the output of this code?\n",
    "try:\n",
    "  variable = 10\n",
    "  print (10 / 2)\n",
    "except ZeroDivisionError:\n",
    "  print(\"Error\")\n",
    "print(\"Finished\")"
   ]
  },
  {
   "cell_type": "code",
   "execution_count": 5,
   "metadata": {},
   "outputs": [
    {
     "name": "stdout",
     "output_type": "stream",
     "text": [
      "5.0\n"
     ]
    }
   ],
   "source": [
    "#What is the output of this code?\n",
    "try:\n",
    "  variable = 10\n",
    "  print (10 / 2)\n",
    "except ZeroDivisionError:\n",
    "  print(\"Error\")\n",
    "  print(\"Finished\")"
   ]
  },
  {
   "cell_type": "code",
   "execution_count": 6,
   "metadata": {},
   "outputs": [
    {
     "name": "stdout",
     "output_type": "stream",
     "text": [
      "Error\n",
      "Finished\n"
     ]
    }
   ],
   "source": [
    "#What is the output of this code?\n",
    "try:\n",
    "  variable = 10\n",
    "  print (10 / 0)\n",
    "except ZeroDivisionError:\n",
    "  print(\"Error\")\n",
    "  print(\"Finished\")"
   ]
  },
  {
   "cell_type": "code",
   "execution_count": 7,
   "metadata": {},
   "outputs": [
    {
     "name": "stdout",
     "output_type": "stream",
     "text": [
      "5.0\n"
     ]
    }
   ],
   "source": [
    "try:\n",
    "   variable = 10\n",
    "   print(variable / 2)\n",
    "except ZeroDivisionError:\n",
    "   print(\"Divided by zero\")\n",
    "except (ValueError, TypeError):\n",
    "   print(\"Error occurred\")"
   ]
  },
  {
   "cell_type": "code",
   "execution_count": 8,
   "metadata": {},
   "outputs": [
    {
     "name": "stdout",
     "output_type": "stream",
     "text": [
      "Error occurred\n"
     ]
    }
   ],
   "source": [
    "try:\n",
    "   variable = 10\n",
    "   print(variable + \"hello\")\n",
    "   print(variable / 2)\n",
    "except ZeroDivisionError:\n",
    "   print(\"Divided by zero\")\n",
    "except (ValueError, TypeError):\n",
    "   print(\"Error occurred\")"
   ]
  },
  {
   "cell_type": "code",
   "execution_count": 9,
   "metadata": {},
   "outputs": [
    {
     "name": "stdout",
     "output_type": "stream",
     "text": [
      "An error occurred\n"
     ]
    }
   ],
   "source": [
    "try:\n",
    "    word = \"spam\"\n",
    "    print(word / 0)\n",
    "except:\n",
    "    print(\"An error occurred\")"
   ]
  },
  {
   "cell_type": "code",
   "execution_count": 10,
   "metadata": {},
   "outputs": [
    {
     "name": "stdout",
     "output_type": "stream",
     "text": [
      "Hello\n",
      "Divided by zero\n",
      "This code will run no matter what\n"
     ]
    }
   ],
   "source": [
    "#finally \n",
    "try:\n",
    "   print(\"Hello\")\n",
    "   print(1 / 0)\n",
    "except ZeroDivisionError:\n",
    "   print(\"Divided by zero\")\n",
    "finally:\n",
    "   print(\"This code will run no matter what\")"
   ]
  },
  {
   "cell_type": "code",
   "execution_count": 11,
   "metadata": {},
   "outputs": [
    {
     "name": "stdout",
     "output_type": "stream",
     "text": [
      "1\n",
      "3\n"
     ]
    }
   ],
   "source": [
    "#What is the output of this code?\n",
    "try:\n",
    "    print(1)\n",
    "except:\n",
    "    print(2)\n",
    "finally:\n",
    "    print(3)"
   ]
  }
 ],
 "metadata": {
  "kernelspec": {
   "display_name": "Python 3",
   "language": "python",
   "name": "python3"
  },
  "language_info": {
   "codemirror_mode": {
    "name": "ipython",
    "version": 3
   },
   "file_extension": ".py",
   "mimetype": "text/x-python",
   "name": "python",
   "nbconvert_exporter": "python",
   "pygments_lexer": "ipython3",
   "version": "3.7.4"
  }
 },
 "nbformat": 4,
 "nbformat_minor": 2
}
