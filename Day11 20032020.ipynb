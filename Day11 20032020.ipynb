{
 "cells": [
  {
   "cell_type": "code",
   "execution_count": 9,
   "metadata": {},
   "outputs": [
    {
     "name": "stdout",
     "output_type": "stream",
     "text": [
      "This is my excercise\n"
     ]
    }
   ],
   "source": [
    "#Function:\n",
    "def inform_teacher(): #Define a name\n",
    "    \"display a simple information\" #Docstring\n",
    "    print('This is my excercise') #logic\n",
    "inform_teacher()"
   ]
  },
  {
   "cell_type": "code",
   "execution_count": 13,
   "metadata": {},
   "outputs": [
    {
     "name": "stdout",
     "output_type": "stream",
     "text": [
      "I am happy to learn Python, Faiyaz\n"
     ]
    }
   ],
   "source": [
    "#enhancement of the code:\n",
    "def inform_teacher(username): #parameter passing\n",
    "    \"Display a simple message to teacher\"\n",
    "    print(f\"I am happy to learn Python, {username.title()}\")\n",
    "inform_teacher ('Faiyaz') #Arguement passing"
   ]
  },
  {
   "cell_type": "code",
   "execution_count": 21,
   "metadata": {},
   "outputs": [
    {
     "ename": "NameError",
     "evalue": "name 'pet_name' is not defined",
     "output_type": "error",
     "traceback": [
      "\u001b[1;31m---------------------------------------------------------------------------\u001b[0m",
      "\u001b[1;31mNameError\u001b[0m                                 Traceback (most recent call last)",
      "\u001b[1;32m<ipython-input-21-bacada23e1d6>\u001b[0m in \u001b[0;36m<module>\u001b[1;34m\u001b[0m\n\u001b[0;32m      1\u001b[0m \u001b[1;31m#Parameters & Arguements:\u001b[0m\u001b[1;33m\u001b[0m\u001b[1;33m\u001b[0m\u001b[1;33m\u001b[0m\u001b[0m\n\u001b[1;32m----> 2\u001b[1;33m \u001b[1;32mdef\u001b[0m \u001b[0mdescribe_pet\u001b[0m\u001b[1;33m(\u001b[0m\u001b[0manimal_type\u001b[0m\u001b[1;33m:\u001b[0m\u001b[0mpet_name\u001b[0m\u001b[1;33m)\u001b[0m\u001b[1;33m:\u001b[0m \u001b[1;31m#2 parameters passed\u001b[0m\u001b[1;33m\u001b[0m\u001b[1;33m\u001b[0m\u001b[0m\n\u001b[0m\u001b[0;32m      3\u001b[0m     \u001b[1;34m\"Display info for a pet\"\u001b[0m \u001b[1;31m#Docstring\u001b[0m\u001b[1;33m\u001b[0m\u001b[1;33m\u001b[0m\u001b[0m\n\u001b[0;32m      4\u001b[0m     \u001b[0mprint\u001b[0m\u001b[1;33m(\u001b[0m\u001b[1;34mf\"\\n I have a {animal_type}\"\u001b[0m\u001b[1;33m)\u001b[0m\u001b[1;31m#logic\u001b[0m\u001b[1;33m\u001b[0m\u001b[1;33m\u001b[0m\u001b[0m\n\u001b[0;32m      5\u001b[0m     \u001b[0mprint\u001b[0m\u001b[1;33m(\u001b[0m\u001b[1;34mf\"my{animal_type}'s name is{pet_name.title()}\"\u001b[0m\u001b[1;33m)\u001b[0m\u001b[1;33m\u001b[0m\u001b[1;33m\u001b[0m\u001b[0m\n",
      "\u001b[1;31mNameError\u001b[0m: name 'pet_name' is not defined"
     ]
    }
   ],
   "source": [
    "#Parameters & Arguements:\n",
    "def describe_pet(animal_type:pet_name): #2 parameters passed\n",
    "    \"Display info for a pet\" #Docstring\n",
    "    print(f\"\\n I have a {animal_type}\")#logic\n",
    "    print(f\"my{animal_type}'s name is{pet_name.title()}\")\n",
    "describe_pet ('dog','bruno')"
   ]
  }
 ],
 "metadata": {
  "kernelspec": {
   "display_name": "Python 3",
   "language": "python",
   "name": "python3"
  },
  "language_info": {
   "codemirror_mode": {
    "name": "ipython",
    "version": 3
   },
   "file_extension": ".py",
   "mimetype": "text/x-python",
   "name": "python",
   "nbconvert_exporter": "python",
   "pygments_lexer": "ipython3",
   "version": "3.7.4"
  }
 },
 "nbformat": 4,
 "nbformat_minor": 2
}
